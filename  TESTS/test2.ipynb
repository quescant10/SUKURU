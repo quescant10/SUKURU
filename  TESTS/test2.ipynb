{
 "cells": [
  {
   "cell_type": "code",
   "execution_count": 68,
   "metadata": {},
   "outputs": [
    {
     "name": "stdout",
     "output_type": "stream",
     "text": [
      "Quintessa LOADING...\n",
      "Do You Want To Save File To TXT?\n",
      "successfully Processed Data From CSV File To TXT.\n",
      "Saved As: { /Users/aiydenkaidon/shangi/Question_Answer.csv }\n",
      "<------Check Out The File In The {YUKAI VAI} Folder Somewhere Over Here\n",
      "Quintessa ACTIVE\n"
     ]
    }
   ],
   "source": [
    "from numpy import loadtxt\n",
    "import csv\n",
    "import numpy as np\n",
    "import pandas as pd\n",
    "import logging\n",
    "from colorama import *\n",
    "import tensorflow_datasets as tfds\n",
    "import tensorflow as tf\n",
    "from tensorflow.keras.models import Sequential\n",
    "from tensorflow.keras.layers import Dense\n",
    "import tensorflow.keras.layers as Layers\n",
    "print(\"Quintessa LOADING...\")\n",
    "Data = '/Users/aiydenkaidon/shangi/Question_Answer.csv'\n",
    "with open(Data, newline='') as csvfile:\n",
    "    spamreader = csv.reader(csvfile, delimiter=' ', quotechar='|')\n",
    "    print(\"Do You Want To Save File To TXT?\")\n",
    "    answer = input(\" \")\n",
    "    if answer == 'yes':\n",
    "        with open(\"Questions_Answer.txt\", 'w') as q:\n",
    "            for row in spamreader:\n",
    "                q.write(' '.join(row))\n",
    "                q.write(\"\\n\")\n",
    "            print(\"successfully Processed Data From CSV File To TXT.\")\n",
    "            print(\"Saved As:\",\"{\",Data,\"}\")\n",
    "            print(\"<------Check Out The File In The {YUKAI VAI} Folder Somewhere Over Here\")\n",
    "    else:\n",
    "        pass\n",
    "\n",
    "# load the dataset\n",
    "\n",
    "# split into input (X) and output (y) variables\n",
    "\n",
    "\n",
    "# define the keras model\n",
    "\n",
    "\n",
    "# compile the keras model\n",
    "\n",
    "\n",
    "# fit the keras model on the dataset\n",
    "\n",
    "\n",
    "# make class predictions with the model\n",
    "\n",
    "print(\"Quintessa ACTIVE\")\n"
   ]
  },
  {
   "attachments": {},
   "cell_type": "markdown",
   "metadata": {},
   "source": [
    "# load the dataset"
   ]
  },
  {
   "cell_type": "code",
   "execution_count": 65,
   "metadata": {},
   "outputs": [
    {
     "data": {
      "text/plain": [
       "array([['Paragraph', 'Question', 'Theme', 'Answer_text', 'Answer_start'],\n",
       "       ['Beyoncé Giselle Knowles-Carter (/biːˈjɒnseɪ/ bee-YON-say) (born September 4, 1981) is an American singer, songwriter, record producer and actress. Born and raised in Houston, Texas, she performed in various singing and dancing competitions as a child, and rose to fame in the late 1990s as lead singer of R&B girl-group Destiny\\'s Child. Managed by her father, Mathew Knowles, the group became one of the world\\'s best-selling girl groups of all time. Their hiatus saw the release of Beyoncé\\'s debut album, Dangerously in Love (2003), which established her as a solo artist worldwide, earned five Grammy Awards and featured the Billboard Hot 100 number-one singles \"Crazy in Love\" and \"Baby Boy\".',\n",
       "        \"When did Beyonce leave Destiny's Child and become a solo singer?\",\n",
       "        'Beyoncé', \"['2003']\", '[526]'],\n",
       "       ['Beyoncé Giselle Knowles-Carter (/biːˈjɒnseɪ/ bee-YON-say) (born September 4, 1981) is an American singer, songwriter, record producer and actress. Born and raised in Houston, Texas, she performed in various singing and dancing competitions as a child, and rose to fame in the late 1990s as lead singer of R&B girl-group Destiny\\'s Child. Managed by her father, Mathew Knowles, the group became one of the world\\'s best-selling girl groups of all time. Their hiatus saw the release of Beyoncé\\'s debut album, Dangerously in Love (2003), which established her as a solo artist worldwide, earned five Grammy Awards and featured the Billboard Hot 100 number-one singles \"Crazy in Love\" and \"Baby Boy\".',\n",
       "        'What album made her a worldwide known artist?', 'Beyoncé',\n",
       "        \"['Dangerously in Love']\", '[505]'],\n",
       "       ...,\n",
       "       ['These quarks and leptons interact through four fundamental forces: gravity, electromagnetism, weak interactions, and strong interactions. The Standard Model of particle physics is currently the best explanation for all of physics, but despite decades of efforts, gravity cannot yet be accounted for at the quantum level; it is only described by classical physics (see quantum gravity and graviton). Interactions between quarks and leptons are the result of an exchange of force-carrying particles (such as photons) between quarks and leptons. The force-carrying particles are not themselves building blocks. As one consequence, mass and energy (which cannot be created or destroyed) cannot always be related to matter (which can be created out of non-matter particles such as photons, or even out of pure energy, such as kinetic energy). Force carriers are usually not considered matter: the carriers of the electric force (photons) possess energy (see Planck relation) and the carriers of the weak force (W and Z bosons) are massive, but neither are considered matter either. However, while these particles are not considered matter, they do contribute to the total mass of atoms, subatomic particles, and all systems that contain them.',\n",
       "        'Mass and energy can always be compared to what?', 'Matter',\n",
       "        '[]', '[]'],\n",
       "       ['The term \"matter\" is used throughout physics in a bewildering variety of contexts: for example, one refers to \"condensed matter physics\", \"elementary matter\", \"partonic\" matter, \"dark\" matter, \"anti\"-matter, \"strange\" matter, and \"nuclear\" matter. In discussions of matter and antimatter, normal matter has been referred to by Alfvén as koinomatter (Gk. common matter). It is fair to say that in physics, there is no broad consensus as to a general definition of matter, and the term \"matter\" usually is used in conjunction with a specifying modifier.',\n",
       "        'Physics has broadly agreed on the definition of what?',\n",
       "        'Matter', '[]', '[]'],\n",
       "       ['The term \"matter\" is used throughout physics in a bewildering variety of contexts: for example, one refers to \"condensed matter physics\", \"elementary matter\", \"partonic\" matter, \"dark\" matter, \"anti\"-matter, \"strange\" matter, and \"nuclear\" matter. In discussions of matter and antimatter, normal matter has been referred to by Alfvén as koinomatter (Gk. common matter). It is fair to say that in physics, there is no broad consensus as to a general definition of matter, and the term \"matter\" usually is used in conjunction with a specifying modifier.',\n",
       "        'What field of study has a variety of unusual contexts?',\n",
       "        'Matter', '[]', '[]']], dtype=object)"
      ]
     },
     "execution_count": 65,
     "metadata": {},
     "output_type": "execute_result"
    }
   ],
   "source": [
    "# Make numpy values easier to read.\n",
    "np.set_printoptions(precision=3, suppress=True)\n",
    "Data_train = pd.read_csv(Data,\n",
    "    names=[\"Paragraph\", \"Question\", \"Theme\", \"Answer Possible\", \"Answer Text\",\n",
    "            \"Answer Start\"])\n",
    "\n",
    "#Data_train.head()\n",
    "Data_headers = Data_train.copy()\n",
    "Data_labels = Data_headers.pop('Answer Possible')\n",
    "\n",
    "Data_headers = np.array(Data_headers)\n",
    "Data_headers\n",
    "\n"
   ]
  },
  {
   "cell_type": "code",
   "execution_count": null,
   "metadata": {},
   "outputs": [],
   "source": []
  }
 ],
 "metadata": {
  "kernelspec": {
   "display_name": "Python 3",
   "language": "python",
   "name": "python3"
  },
  "language_info": {
   "codemirror_mode": {
    "name": "ipython",
    "version": 3
   },
   "file_extension": ".py",
   "mimetype": "text/x-python",
   "name": "python",
   "nbconvert_exporter": "python",
   "pygments_lexer": "ipython3",
   "version": "3.10.4 (v3.10.4:9d38120e33, Mar 23 2022, 17:29:05) [Clang 13.0.0 (clang-1300.0.29.30)]"
  },
  "orig_nbformat": 4,
  "vscode": {
   "interpreter": {
    "hash": "aee8b7b246df8f9039afb4144a1f6fd8d2ca17a180786b69acc140d282b71a49"
   }
  }
 },
 "nbformat": 4,
 "nbformat_minor": 2
}
